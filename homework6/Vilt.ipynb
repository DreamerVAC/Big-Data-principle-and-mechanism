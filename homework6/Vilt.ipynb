{
 "cells": [
  {
   "cell_type": "code",
   "execution_count": 6,
   "metadata": {},
   "outputs": [
    {
     "name": "stdout",
     "output_type": "stream",
     "text": [
      "图片: eagle.jpg\n",
      "问题: 图中有什么动物？\n",
      "答案: eagle\n",
      "\n",
      "图片: wolf.jpg\n",
      "问题: 图中有什么动物？\n",
      "答案: bear\n",
      "\n",
      "图片: polarBear.jpg\n",
      "问题: 图中有什么动物？\n",
      "答案: bears\n",
      "\n"
     ]
    }
   ],
   "source": [
    "from transformers import ViltProcessor, ViltForQuestionAnswering\n",
    "from PIL import Image\n",
    "import torch\n",
    "import os\n",
    "\n",
    "processsor = ViltProcessor.from_pretrained(\"dandelin/vilt-b32-finetuned-vqa\")\n",
    "model = ViltForQuestionAnswering.from_pretrained(\"dandelin/vilt-b32-finetuned-vqa\")\n",
    "\n",
    "data_path= \"data\"\n",
    "results = []\n",
    "for img in os.listdir(data_path):\n",
    "    if img.endswith(\".jpg\"):\n",
    "        image = Image.open(os.path.join(data_path, img))\n",
    "\n",
    "        question = \"图中有什么动物？\"\n",
    "\n",
    "        encoding = processsor(image, question, return_tensors=\"pt\")\n",
    "        with torch.no_grad():\n",
    "            outputs = model(**encoding)\n",
    "        logits = outputs.logits\n",
    "        predicted_ids = logits.argmax(-1).item()\n",
    "        answer = model.config.id2label[predicted_ids]\n",
    "\n",
    "        results.append({\n",
    "            \"图片\": img,\n",
    "            \"问题\": question,\n",
    "            \"答案\": answer\n",
    "        })\n",
    "\n",
    "for result in results:\n",
    "    print(f\"图片: {result['图片']}\\n问题: {result['问题']}\\n答案: {result['答案']}\\n\")\n",
    "\n",
    "            \n",
    "\n"
   ]
  }
 ],
 "metadata": {
  "kernelspec": {
   "display_name": "dl",
   "language": "python",
   "name": "python3"
  },
  "language_info": {
   "codemirror_mode": {
    "name": "ipython",
    "version": 3
   },
   "file_extension": ".py",
   "mimetype": "text/x-python",
   "name": "python",
   "nbconvert_exporter": "python",
   "pygments_lexer": "ipython3",
   "version": "3.11.11"
  }
 },
 "nbformat": 4,
 "nbformat_minor": 2
}
