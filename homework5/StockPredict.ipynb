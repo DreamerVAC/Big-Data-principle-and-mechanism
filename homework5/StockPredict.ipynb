{
 "cells": [
  {
   "cell_type": "code",
   "execution_count": 36,
   "metadata": {},
   "outputs": [
    {
     "name": "stderr",
     "output_type": "stream",
     "text": [
      "[*********************100%***********************]  1 of 1 completed"
     ]
    },
    {
     "name": "stdout",
     "output_type": "stream",
     "text": [
      "数据集前几行：\n",
      "Price           Close       High        Low       Open       Volume\n",
      "Ticker           AAPL       AAPL       AAPL       AAPL         AAPL\n",
      "Date                                                               \n",
      "2020-01-02  72.716057  72.776583  71.466797  71.721004  135480400.0\n",
      "2020-01-03  72.009109  72.771737  71.783954  71.941321  146322800.0\n",
      "2020-01-06  72.582909  72.621646  70.876075  71.127866  118387200.0\n",
      "2020-01-07  72.241547  72.849224  72.021231  72.592594  108872000.0\n",
      "2020-01-08  73.403648  73.706279  71.943759  71.943759  132079200.0\n",
      "2020-01-09  74.962799  75.156480  74.132383  74.384166  170108400.0\n",
      "2020-01-10  75.132263  75.698794  74.628689  75.197636  140644800.0\n",
      "2020-01-13  76.737411  76.764047  75.330785  75.449422  121532000.0\n",
      "2020-01-14  75.701218  76.885112  75.577749  76.674482  161954400.0\n",
      "2020-01-15  75.376801  76.383956  74.943431  75.500276  121923600.0\n",
      "数据集索引频率： <BusinessDay>\n"
     ]
    },
    {
     "name": "stderr",
     "output_type": "stream",
     "text": [
      "\n"
     ]
    }
   ],
   "source": [
    "import yfinance as yf\n",
    "import pandas as pd\n",
    "import numpy as np\n",
    "import math\n",
    "from sklearn.metrics import mean_absolute_error, mean_squared_error\n",
    "from statsmodels.tsa.arima.model import ARIMA\n",
    "from sklearn.preprocessing import MinMaxScaler\n",
    "import tensorflow as tf\n",
    "from tensorflow.keras.models import Sequential\n",
    "from tensorflow.keras.layers import LSTM, Dense\n",
    "import matplotlib.pyplot as plt\n",
    "\n",
    "\n",
    "# ========== 1) 下载数据并处理频率 ==========\n",
    "df = yf.download(\"AAPL\", start=\"2020-01-01\", end=\"2025-3-20\")\n",
    "\n",
    "# 索引改为 DateTime，并设置成业务日频率(B)\n",
    "df.index = pd.to_datetime(df.index)\n",
    "df = df.asfreq('B')\n",
    "\n",
    "# 对缺失值(周末/节假日)进行填充：用前一个交易日的收盘价\n",
    "df['Close'] = df['Close'].ffill()\n",
    "\n",
    "print(\"数据集前几行：\")\n",
    "print(df.head(10))\n",
    "print(\"数据集索引频率：\", df.index.freq)\n",
    "\n",
    "# 取 'Close' 作为预测目标\n",
    "data = df[\"Close\"].dropna()"
   ]
  },
  {
   "cell_type": "code",
   "execution_count": 37,
   "metadata": {},
   "outputs": [
    {
     "name": "stdout",
     "output_type": "stream",
     "text": [
      "\n",
      "=== ARIMA 测试集表现 ===\n",
      "Test MAE: 10.196397478154942\n",
      "Test RMSE: 11.738271779572411\n"
     ]
    }
   ],
   "source": [
    "# ========== 2) 训练/测试集划分 ========== \n",
    "# 这里示例：最后30个交易日当做测试集\n",
    "train_data = data.iloc[:-30]\n",
    "test_data  = data.iloc[-30:]\n",
    "\n",
    "# ========== 3) ARIMA 模型训练 & 测试 ==========\n",
    "model_arima = ARIMA(train_data, order=(5, 1, 0))  # p,d,q = (5,1,0)仅作示例\n",
    "model_fit_arima = model_arima.fit()\n",
    "\n",
    "# 在测试集长度(30天)上做预测\n",
    "forecast_test_arima = model_fit_arima.forecast(steps=30)\n",
    "\n",
    "# 评估 ARIMA 预测在测试集上的 MAE、RMSE\n",
    "mae_arima = mean_absolute_error(test_data, forecast_test_arima)\n",
    "rmse_arima = math.sqrt(mean_squared_error(test_data, forecast_test_arima))\n",
    "\n",
    "print(\"\\n=== ARIMA 测试集表现 ===\")\n",
    "print(\"Test MAE:\", mae_arima)\n",
    "print(\"Test RMSE:\", rmse_arima)\n",
    "\n",
    "# 如果 forecast_test_arima 索引不是和 test_data 一致，可以手动重置一下：\n",
    "# （statsmodels 版本如果能自动识别频率，则它会返回带日期的 Series，如果不是，就要手动对齐）\n",
    "if not forecast_test_arima.index.equals(test_data.index):\n",
    "    forecast_test_arima = pd.Series(forecast_test_arima.values, index=test_data.index)"
   ]
  },
  {
   "cell_type": "code",
   "execution_count": 38,
   "metadata": {},
   "outputs": [
    {
     "name": "stdout",
     "output_type": "stream",
     "text": [
      "\n",
      "LSTM X_train.shape = (1310, 20, 1)  y_train.shape = (1310, 1)\n",
      "LSTM X_test.shape  = (30, 20, 1)  y_test.shape  = (30, 1)\n",
      "Epoch 1/10\n"
     ]
    },
    {
     "name": "stderr",
     "output_type": "stream",
     "text": [
      "/Users/Winfred/anaconda3/envs/dl/lib/python3.11/site-packages/keras/src/layers/rnn/rnn.py:204: UserWarning: Do not pass an `input_shape`/`input_dim` argument to a layer. When using Sequential models, prefer using an `Input(shape)` object as the first layer in the model instead.\n",
      "  super().__init__(**kwargs)\n"
     ]
    },
    {
     "name": "stdout",
     "output_type": "stream",
     "text": [
      "\u001b[1m41/41\u001b[0m \u001b[32m━━━━━━━━━━━━━━━━━━━━\u001b[0m\u001b[37m\u001b[0m \u001b[1m1s\u001b[0m 4ms/step - loss: 0.0725\n",
      "Epoch 2/10\n",
      "\u001b[1m41/41\u001b[0m \u001b[32m━━━━━━━━━━━━━━━━━━━━\u001b[0m\u001b[37m\u001b[0m \u001b[1m0s\u001b[0m 4ms/step - loss: 0.0015\n",
      "Epoch 3/10\n",
      "\u001b[1m41/41\u001b[0m \u001b[32m━━━━━━━━━━━━━━━━━━━━\u001b[0m\u001b[37m\u001b[0m \u001b[1m0s\u001b[0m 4ms/step - loss: 8.7932e-04\n",
      "Epoch 4/10\n",
      "\u001b[1m41/41\u001b[0m \u001b[32m━━━━━━━━━━━━━━━━━━━━\u001b[0m\u001b[37m\u001b[0m \u001b[1m0s\u001b[0m 4ms/step - loss: 8.9080e-04\n",
      "Epoch 5/10\n",
      "\u001b[1m41/41\u001b[0m \u001b[32m━━━━━━━━━━━━━━━━━━━━\u001b[0m\u001b[37m\u001b[0m \u001b[1m0s\u001b[0m 4ms/step - loss: 8.0732e-04\n",
      "Epoch 6/10\n",
      "\u001b[1m41/41\u001b[0m \u001b[32m━━━━━━━━━━━━━━━━━━━━\u001b[0m\u001b[37m\u001b[0m \u001b[1m0s\u001b[0m 4ms/step - loss: 7.8701e-04\n",
      "Epoch 7/10\n",
      "\u001b[1m41/41\u001b[0m \u001b[32m━━━━━━━━━━━━━━━━━━━━\u001b[0m\u001b[37m\u001b[0m \u001b[1m0s\u001b[0m 4ms/step - loss: 8.5002e-04\n",
      "Epoch 8/10\n",
      "\u001b[1m41/41\u001b[0m \u001b[32m━━━━━━━━━━━━━━━━━━━━\u001b[0m\u001b[37m\u001b[0m \u001b[1m0s\u001b[0m 4ms/step - loss: 7.8823e-04\n",
      "Epoch 9/10\n",
      "\u001b[1m41/41\u001b[0m \u001b[32m━━━━━━━━━━━━━━━━━━━━\u001b[0m\u001b[37m\u001b[0m \u001b[1m0s\u001b[0m 4ms/step - loss: 8.2607e-04\n",
      "Epoch 10/10\n",
      "\u001b[1m41/41\u001b[0m \u001b[32m━━━━━━━━━━━━━━━━━━━━\u001b[0m\u001b[37m\u001b[0m \u001b[1m0s\u001b[0m 4ms/step - loss: 7.6113e-04\n",
      "\u001b[1m1/1\u001b[0m \u001b[32m━━━━━━━━━━━━━━━━━━━━\u001b[0m\u001b[37m\u001b[0m \u001b[1m0s\u001b[0m 77ms/step\n",
      "\n",
      "=== LSTM 测试集表现 ===\n",
      "Test MAE: 8.492959594726566\n",
      "Test RMSE: 10.220722256795856\n"
     ]
    }
   ],
   "source": [
    "# ========== 4) LSTM 模型训练 & 测试 ==========\n",
    "# 4.1 数据归一化 + 生成滚动窗口 (X, y)\n",
    "def create_sequences(dataset, look_back=20):\n",
    "    X, y = [], []\n",
    "    for i in range(len(dataset) - look_back):\n",
    "        X.append(dataset[i:i+look_back])\n",
    "        y.append(dataset[i+look_back])\n",
    "    return np.array(X), np.array(y)\n",
    "\n",
    "look_back = 20\n",
    "close_values = data.values.reshape(-1, 1)\n",
    "\n",
    "scaler = MinMaxScaler(feature_range=(0, 1))\n",
    "scaled_values = scaler.fit_transform(close_values)\n",
    "\n",
    "train_size = len(scaled_values) - 30\n",
    "train_scaled = scaled_values[:train_size]\n",
    "test_scaled  = scaled_values[train_size - look_back:]  # 多取一个窗口\n",
    "\n",
    "X_train, y_train = create_sequences(train_scaled, look_back)\n",
    "X_test,  y_test  = create_sequences(test_scaled,  look_back)\n",
    "\n",
    "print(\"\\nLSTM X_train.shape =\", X_train.shape, \" y_train.shape =\", y_train.shape)\n",
    "print(\"LSTM X_test.shape  =\", X_test.shape,  \" y_test.shape  =\", y_test.shape)\n",
    "\n",
    "# 4.2 构建LSTM网络并训练\n",
    "model_lstm = Sequential()\n",
    "model_lstm.add(LSTM(50, return_sequences=True, input_shape=(look_back, 1)))\n",
    "model_lstm.add(LSTM(50))\n",
    "model_lstm.add(Dense(1))\n",
    "model_lstm.compile(loss='mean_squared_error', optimizer='adam')\n",
    "\n",
    "model_lstm.fit(\n",
    "    X_train, y_train,\n",
    "    epochs=10,        # 示例，实际可调大\n",
    "    batch_size=32,\n",
    "    verbose=1\n",
    ")\n",
    "\n",
    "# 4.3 测试集预测\n",
    "y_pred_test_scaled = model_lstm.predict(X_test)\n",
    "y_pred_test = scaler.inverse_transform(y_pred_test_scaled)   # LSTM预测值(逆缩放)\n",
    "y_test_inv  = scaler.inverse_transform(y_test.reshape(-1,1)) # 测试集真实值(逆缩放)\n",
    "\n",
    "mae_lstm = mean_absolute_error(y_test_inv, y_pred_test)\n",
    "rmse_lstm = math.sqrt(mean_squared_error(y_test_inv, y_pred_test))\n",
    "\n",
    "print(\"\\n=== LSTM 测试集表现 ===\")\n",
    "print(\"Test MAE:\", mae_lstm)\n",
    "print(\"Test RMSE:\", rmse_lstm)\n",
    "\n",
    "# 同样，把 LSTM 预测值放进 Series 并对齐 test_data.index\n",
    "lstm_pred_series = pd.Series(y_pred_test.flatten(), index=test_data.index)\n"
   ]
  },
  {
   "cell_type": "code",
   "execution_count": 39,
   "metadata": {},
   "outputs": [
    {
     "name": "stderr",
     "output_type": "stream",
     "text": [
      "findfont: Generic family 'sans-serif' not found because none of the following families were found: SimHei\n",
      "findfont: Generic family 'sans-serif' not found because none of the following families were found: SimHei\n",
      "findfont: Generic family 'sans-serif' not found because none of the following families were found: SimHei\n",
      "findfont: Generic family 'sans-serif' not found because none of the following families were found: SimHei\n",
      "findfont: Generic family 'sans-serif' not found because none of the following families were found: SimHei\n",
      "findfont: Generic family 'sans-serif' not found because none of the following families were found: SimHei\n",
      "findfont: Generic family 'sans-serif' not found because none of the following families were found: SimHei\n",
      "findfont: Generic family 'sans-serif' not found because none of the following families were found: SimHei\n",
      "findfont: Generic family 'sans-serif' not found because none of the following families were found: SimHei\n",
      "findfont: Generic family 'sans-serif' not found because none of the following families were found: SimHei\n",
      "findfont: Generic family 'sans-serif' not found because none of the following families were found: SimHei\n",
      "findfont: Generic family 'sans-serif' not found because none of the following families were found: SimHei\n",
      "findfont: Generic family 'sans-serif' not found because none of the following families were found: SimHei\n",
      "findfont: Generic family 'sans-serif' not found because none of the following families were found: SimHei\n",
      "findfont: Generic family 'sans-serif' not found because none of the following families were found: SimHei\n",
      "findfont: Generic family 'sans-serif' not found because none of the following families were found: SimHei\n",
      "findfont: Generic family 'sans-serif' not found because none of the following families were found: SimHei\n",
      "findfont: Generic family 'sans-serif' not found because none of the following families were found: SimHei\n",
      "findfont: Generic family 'sans-serif' not found because none of the following families were found: SimHei\n",
      "findfont: Generic family 'sans-serif' not found because none of the following families were found: SimHei\n",
      "findfont: Generic family 'sans-serif' not found because none of the following families were found: SimHei\n",
      "findfont: Generic family 'sans-serif' not found because none of the following families were found: SimHei\n",
      "findfont: Generic family 'sans-serif' not found because none of the following families were found: SimHei\n",
      "findfont: Generic family 'sans-serif' not found because none of the following families were found: SimHei\n",
      "findfont: Generic family 'sans-serif' not found because none of the following families were found: SimHei\n",
      "findfont: Generic family 'sans-serif' not found because none of the following families were found: SimHei\n",
      "findfont: Generic family 'sans-serif' not found because none of the following families were found: SimHei\n",
      "findfont: Generic family 'sans-serif' not found because none of the following families were found: SimHei\n",
      "findfont: Generic family 'sans-serif' not found because none of the following families were found: SimHei\n",
      "findfont: Generic family 'sans-serif' not found because none of the following families were found: SimHei\n",
      "findfont: Generic family 'sans-serif' not found because none of the following families were found: SimHei\n",
      "findfont: Generic family 'sans-serif' not found because none of the following families were found: SimHei\n",
      "findfont: Generic family 'sans-serif' not found because none of the following families were found: SimHei\n",
      "findfont: Generic family 'sans-serif' not found because none of the following families were found: SimHei\n",
      "findfont: Generic family 'sans-serif' not found because none of the following families were found: SimHei\n"
     ]
    },
    {
     "name": "stdout",
     "output_type": "stream",
     "text": [
      "\n",
      "==== 测试集指标对比 ====\n",
      "ARIMA - MAE: 10.1964, RMSE: 11.7383\n",
      "LSTM  - MAE: 8.4930, RMSE: 10.2207\n"
     ]
    },
    {
     "name": "stderr",
     "output_type": "stream",
     "text": [
      "findfont: Generic family 'sans-serif' not found because none of the following families were found: SimHei\n",
      "findfont: Generic family 'sans-serif' not found because none of the following families were found: SimHei\n",
      "findfont: Generic family 'sans-serif' not found because none of the following families were found: SimHei\n",
      "findfont: Generic family 'sans-serif' not found because none of the following families were found: SimHei\n",
      "findfont: Generic family 'sans-serif' not found because none of the following families were found: SimHei\n",
      "findfont: Generic family 'sans-serif' not found because none of the following families were found: SimHei\n",
      "findfont: Generic family 'sans-serif' not found because none of the following families were found: SimHei\n",
      "findfont: Generic family 'sans-serif' not found because none of the following families were found: SimHei\n",
      "findfont: Generic family 'sans-serif' not found because none of the following families were found: SimHei\n",
      "findfont: Generic family 'sans-serif' not found because none of the following families were found: SimHei\n",
      "findfont: Generic family 'sans-serif' not found because none of the following families were found: SimHei\n",
      "findfont: Generic family 'sans-serif' not found because none of the following families were found: SimHei\n",
      "findfont: Generic family 'sans-serif' not found because none of the following families were found: SimHei\n",
      "findfont: Generic family 'sans-serif' not found because none of the following families were found: SimHei\n",
      "findfont: Generic family 'sans-serif' not found because none of the following families were found: SimHei\n",
      "findfont: Generic family 'sans-serif' not found because none of the following families were found: SimHei\n",
      "findfont: Generic family 'sans-serif' not found because none of the following families were found: SimHei\n",
      "findfont: Generic family 'sans-serif' not found because none of the following families were found: SimHei\n",
      "findfont: Generic family 'sans-serif' not found because none of the following families were found: SimHei\n",
      "findfont: Generic family 'sans-serif' not found because none of the following families were found: SimHei\n",
      "findfont: Generic family 'sans-serif' not found because none of the following families were found: SimHei\n",
      "findfont: Generic family 'sans-serif' not found because none of the following families were found: SimHei\n",
      "findfont: Generic family 'sans-serif' not found because none of the following families were found: SimHei\n",
      "findfont: Generic family 'sans-serif' not found because none of the following families were found: SimHei\n",
      "findfont: Generic family 'sans-serif' not found because none of the following families were found: SimHei\n",
      "findfont: Generic family 'sans-serif' not found because none of the following families were found: SimHei\n",
      "findfont: Generic family 'sans-serif' not found because none of the following families were found: SimHei\n",
      "findfont: Generic family 'sans-serif' not found because none of the following families were found: SimHei\n",
      "findfont: Generic family 'sans-serif' not found because none of the following families were found: SimHei\n",
      "findfont: Generic family 'sans-serif' not found because none of the following families were found: SimHei\n",
      "findfont: Generic family 'sans-serif' not found because none of the following families were found: SimHei\n",
      "findfont: Generic family 'sans-serif' not found because none of the following families were found: SimHei\n",
      "findfont: Generic family 'sans-serif' not found because none of the following families were found: SimHei\n",
      "findfont: Generic family 'sans-serif' not found because none of the following families were found: SimHei\n",
      "findfont: Generic family 'sans-serif' not found because none of the following families were found: SimHei\n",
      "findfont: Generic family 'sans-serif' not found because none of the following families were found: SimHei\n",
      "findfont: Generic family 'sans-serif' not found because none of the following families were found: SimHei\n",
      "findfont: Generic family 'sans-serif' not found because none of the following families were found: SimHei\n",
      "findfont: Generic family 'sans-serif' not found because none of the following families were found: SimHei\n",
      "findfont: Generic family 'sans-serif' not found because none of the following families were found: SimHei\n",
      "findfont: Generic family 'sans-serif' not found because none of the following families were found: SimHei\n",
      "findfont: Generic family 'sans-serif' not found because none of the following families were found: SimHei\n",
      "findfont: Generic family 'sans-serif' not found because none of the following families were found: SimHei\n",
      "findfont: Generic family 'sans-serif' not found because none of the following families were found: SimHei\n",
      "findfont: Generic family 'sans-serif' not found because none of the following families were found: SimHei\n",
      "findfont: Generic family 'sans-serif' not found because none of the following families were found: SimHei\n",
      "findfont: Generic family 'sans-serif' not found because none of the following families were found: SimHei\n",
      "findfont: Generic family 'sans-serif' not found because none of the following families were found: SimHei\n",
      "findfont: Generic family 'sans-serif' not found because none of the following families were found: SimHei\n",
      "findfont: Generic family 'sans-serif' not found because none of the following families were found: SimHei\n",
      "findfont: Generic family 'sans-serif' not found because none of the following families were found: SimHei\n",
      "findfont: Generic family 'sans-serif' not found because none of the following families were found: SimHei\n",
      "findfont: Generic family 'sans-serif' not found because none of the following families were found: SimHei\n",
      "findfont: Generic family 'sans-serif' not found because none of the following families were found: SimHei\n",
      "findfont: Generic family 'sans-serif' not found because none of the following families were found: SimHei\n",
      "findfont: Generic family 'sans-serif' not found because none of the following families were found: SimHei\n"
     ]
    },
    {
     "data": {
      "image/png": "[encoded data removed]",
      "text/plain": [
       "<Figure size 640x480 with 1 Axes>"
      ]
     },
     "metadata": {},
     "output_type": "display_data"
    }
   ],
   "source": [
    "# ========== 5) 对比: 测试集真实值 vs ARIMA vs LSTM ==========\n",
    "print(\"\\n==== 测试集指标对比 ====\")\n",
    "print(f\"ARIMA - MAE: {mae_arima:.4f}, RMSE: {rmse_arima:.4f}\")\n",
    "print(f\"LSTM  - MAE: {mae_lstm:.4f}, RMSE: {rmse_lstm:.4f}\")\n",
    "\n",
    "\n",
    "plt.figure()\n",
    "plt.plot(test_data.index, test_data, label='True Value')\n",
    "plt.plot(forecast_test_arima.index, forecast_test_arima, label='ARIMA Value')\n",
    "plt.plot(lstm_pred_series.index, lstm_pred_series, label='LSTM Value')\n",
    "plt.title('True vs ARIMA vs LSTM')\n",
    "plt.legend()\n",
    "plt.show()\n"
   ]
  },
  {
   "cell_type": "code",
   "execution_count": null,
   "metadata": {},
   "outputs": [
    {
     "name": "stdout",
     "output_type": "stream",
     "text": [
      "\n",
      "=== ARIMA 未来7个交易日预测 ===\n",
      "2025-02-06    232.245014\n",
      "2025-02-07    231.900665\n",
      "2025-02-10    231.942705\n",
      "2025-02-11    232.001140\n",
      "2025-02-12    232.003490\n",
      "2025-02-13    231.992256\n",
      "2025-02-14    231.987780\n",
      "Freq: B, Name: predicted_mean, dtype: float64\n",
      "\n",
      "=== LSTM 未来7个交易日预测(滚动) ===\n",
      "\u001b[1m1/1\u001b[0m \u001b[32m━━━━━━━━━━━━━━━━━━━━\u001b[0m\u001b[37m\u001b[0m \u001b[1m0s\u001b[0m 115ms/step\n",
      "\u001b[1m1/1\u001b[0m \u001b[32m━━━━━━━━━━━━━━━━━━━━\u001b[0m\u001b[37m\u001b[0m \u001b[1m0s\u001b[0m 8ms/step\n",
      "\u001b[1m1/1\u001b[0m \u001b[32m━━━━━━━━━━━━━━━━━━━━\u001b[0m\u001b[37m\u001b[0m \u001b[1m0s\u001b[0m 9ms/step\n",
      "\u001b[1m1/1\u001b[0m \u001b[32m━━━━━━━━━━━━━━━━━━━━\u001b[0m\u001b[37m\u001b[0m \u001b[1m0s\u001b[0m 7ms/step\n",
      "\u001b[1m1/1\u001b[0m \u001b[32m━━━━━━━━━━━━━━━━━━━━\u001b[0m\u001b[37m\u001b[0m \u001b[1m0s\u001b[0m 7ms/step\n",
      "\u001b[1m1/1\u001b[0m \u001b[32m━━━━━━━━━━━━━━━━━━━━\u001b[0m\u001b[37m\u001b[0m \u001b[1m0s\u001b[0m 6ms/step\n",
      "\u001b[1m1/1\u001b[0m \u001b[32m━━━━━━━━━━━━━━━━━━━━\u001b[0m\u001b[37m\u001b[0m \u001b[1m0s\u001b[0m 7ms/step\n",
      "[219.53822, 218.00093, 216.87576, 216.04068, 215.40279, 214.88515, 214.44852]\n"
     ]
    }
   ],
   "source": [
    "# ========== 6)：预测未来 7 天 ==========\n",
    "\n",
    "print(\"\\n=== ARIMA 未来7个交易日预测 ===\")\n",
    "arima_future_7 = model_fit_arima.forecast(steps=7)\n",
    "print(arima_future_7)\n",
    "\n",
    "print(\"\\n=== LSTM 未来7个交易日预测 ===\")\n",
    "last_sequence = scaled_values[-look_back:]\n",
    "predictions_7d = []\n",
    "current_seq = last_sequence.copy()\n",
    "\n",
    "for i in range(7):\n",
    "    input_seq = np.expand_dims(current_seq, axis=0)\n",
    "    pred_scaled = model_lstm.predict(input_seq)\n",
    "    pred_value = scaler.inverse_transform(pred_scaled)[0,0]\n",
    "    predictions_7d.append(pred_value)\n",
    "    current_seq = np.vstack((current_seq[1:], pred_scaled))\n",
    "\n",
    "print(predictions_7d)"
   ]
  }
 ],
 "metadata": {
  "kernelspec": {
   "display_name": "dl",
   "language": "python",
   "name": "python3"
  },
  "language_info": {
   "codemirror_mode": {
    "name": "ipython",
    "version": 3
   },
   "file_extension": ".py",
   "mimetype": "text/x-python",
   "name": "python",
   "nbconvert_exporter": "python",
   "pygments_lexer": "ipython3",
   "version": "3.11.11"
  }
 },
 "nbformat": 4,
 "nbformat_minor": 2
}
