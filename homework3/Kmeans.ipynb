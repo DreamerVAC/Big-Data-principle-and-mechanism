{
 "cells": [
  {
   "cell_type": "code",
   "execution_count": 4,
   "metadata": {},
   "outputs": [],
   "source": [
    "import numpy as np\n",
    "import pandas as pd\n",
    "from collections import Counter\n",
    "from math import sqrt\n",
    "from matplotlib import pyplot as plt\n",
    "\n",
    "from sklearn.datasets import load_iris\n",
    "\n",
    "iris = load_iris()\n",
    "\n",
    "X = iris.data\n",
    "y = iris.target\n",
    "labels = iris.target_names\n",
    "\n",
    "def euclidean_distance(x1, x2):\n",
    "    return np.sqrt(np.sum((x1 - x2) ** 2))"
   ]
  },
  {
   "cell_type": "code",
   "execution_count": 5,
   "metadata": {},
   "outputs": [],
   "source": [
    "def k_means(X,K,max_iters=100,tol=1e-4,random_state = None):\n",
    "    np.random.seed(random_state)\n",
    "    n_samples, n_features = X.shape\n",
    "\n",
    "    # 随机选k个点作为初始中心点\n",
    "    indices = np.random.choice(n_samples, K, replace=False)\n",
    "    centroids = X[indices,:].copy()\n",
    "\n",
    "    cluster_assignments = np.zeros(n_samples,dtype=np.int32)\n",
    "    for _ in range(max_iters):\n",
    "        for i in range(n_samples):\n",
    "            distances = [euclidean_distance(X[i],c) for c in centroids]\n",
    "            # 离第i个样本最近的中心点的索引\n",
    "            cluster_assignments[i] = np.argmin(distances)\n",
    "\n",
    "        new_centroids = np.zeros((K,n_features))\n",
    "        for k in range(K):\n",
    "            points_in_cluster = X[cluster_assignments == k]\n",
    "            if len(points_in_cluster) > 0:\n",
    "                    new_centroids[k] = np.mean(points_in_cluster,axis=0)\n",
    "            else:\n",
    "                new_centroids[k] = X[np.random.choice(n_samples)]\n",
    "\n",
    "        shift = np.sum(np.sqrt(np.sum((new_centroids - centroids) ** 2,axis=1)))\n",
    "        if shift < tol:\n",
    "            break\n",
    "    return cluster_assignments,centroids\n"
   ]
  },
  {
   "cell_type": "code",
   "execution_count": 7,
   "metadata": {},
   "outputs": [
    {
     "name": "stdout",
     "output_type": "stream",
     "text": [
      "K-means cluster assignments: Counter({0: 84, 1: 50, 2: 16})\n"
     ]
    }
   ],
   "source": [
    "def main():\n",
    "    k=3\n",
    "    assignments,centroids = k_means(X,k,random_state=42)\n",
    "    print(f\"K-means cluster assignments: {Counter(assignments)}\")\n",
    "\n",
    "if __name__ == \"__main__\":\n",
    "    main()"
   ]
  }
 ],
 "metadata": {
  "kernelspec": {
   "display_name": "dl",
   "language": "python",
   "name": "python3"
  },
  "language_info": {
   "codemirror_mode": {
    "name": "ipython",
    "version": 3
   },
   "file_extension": ".py",
   "mimetype": "text/x-python",
   "name": "python",
   "nbconvert_exporter": "python",
   "pygments_lexer": "ipython3",
   "version": "3.11.11"
  }
 },
 "nbformat": 4,
 "nbformat_minor": 2
}
